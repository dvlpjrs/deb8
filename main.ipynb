{
 "cells": [
  {
   "cell_type": "code",
   "execution_count": 1,
   "metadata": {},
   "outputs": [],
   "source": [
    "from app.utils.database import Database"
   ]
  },
  {
   "cell_type": "code",
   "execution_count": 2,
   "metadata": {},
   "outputs": [
    {
     "name": "stdout",
     "output_type": "stream",
     "text": [
      "Connecting to deb8\n"
     ]
    }
   ],
   "source": [
    "db = Database().db"
   ]
  },
  {
   "cell_type": "code",
   "execution_count": 4,
   "metadata": {},
   "outputs": [],
   "source": [
    "import csv\n",
    "\n",
    "with open('/Users/jrs/Desktop/deb8/deb8_backend/Questions - Sheet2.csv', 'r') as file:\n",
    "    reader = csv.reader(file)\n",
    "    for row in reader:\n",
    "        db.validation.insert_one({\n",
    "            'questions': row[1],\n",
    "            'category': row[0]\n",
    "        })\n",
    "        "
   ]
  },
  {
   "cell_type": "code",
   "execution_count": 5,
   "metadata": {},
   "outputs": [],
   "source": [
    "temp = [[{'question': 'Q0', 'result': True}, {'question': 'Q1', 'result': True}, {'question': 'Q2', 'result': True}, {'question': 'Q3', 'result': True}, {'question': 'Q4', 'result': True}, {'question': 'Q5', 'result': True}, {'question': 'Q6', 'result': True}, {'question': 'Q7', 'result': True}, {'question': 'Q8', 'result': True}, {'question': 'Q9', 'result': True}, {'question': 'Q10', 'result': True}, {'question': 'Q11', 'result': True}, {'question': 'Q12', 'result': True}, {'question': 'Q13', 'result': True}, {'question': 'Q14', 'result': True}], [{'question': 'Q0', 'result': True}, {'question': 'Q1', 'result': True}, {'question': 'Q2', 'result': True}, {'question': 'Q3', 'result': True}, {'question': 'Q4', 'result': True}, {'question': 'Q5', 'result': True}, {'question': 'Q6', 'result': True}, {'question': 'Q7', 'result': True}, {'question': 'Q8', 'result': True}, {'question': 'Q9', 'result': True}, {'question': 'Q10', 'result': True}, {'question': 'Q11', 'result': True}, {'question': 'Q12', 'result': True}, {'question': 'Q13', 'result': True}, {'question': 'Q14', 'result': True}], [{'question': 'Q0', 'result': True}, {'question': 'Q1', 'result': True}, {'question': 'Q2', 'result': True}, {'question': 'Q3', 'result': True}, {'question': 'Q4', 'result': True}, {'question': 'Q5', 'result': True}, {'question': 'Q6', 'result': True}, {'question': 'Q7', 'result': True}, {'question': 'Q8', 'result': True}, {'question': 'Q9', 'result': True}, {'question': 'Q10', 'result': True}, {'question': 'Q11', 'result': True}, {'question': 'Q12', 'result': True}, {'question': 'Q13', 'result': True}, {'question': 'Q14', 'result': True}], [{'question': 'Q0', 'result': False}, {'question': 'Q1', 'result': True}, {'question': 'Q2', 'result': False}, {'question': 'Q3', 'result': True}, {'question': 'Q4', 'result': True}, {'question': 'Q5', 'result': True}, {'question': 'Q6', 'result': True}, {'question': 'Q7', 'result': True}, {'question': 'Q8', 'result': False}, {'question': 'Q9', 'result': True}, {'question': 'Q10', 'result': True}, {'question': 'Q11', 'result': True}, {'question': 'Q12', 'result': True}, {'question': 'Q13', 'result': True}, {'question': 'Q14', 'result': True}]]"
   ]
  },
  {
   "cell_type": "code",
   "execution_count": 10,
   "metadata": {},
   "outputs": [
    {
     "name": "stdout",
     "output_type": "stream",
     "text": [
      "{'agent1': 30, 'agent2': 27}\n"
     ]
    }
   ],
   "source": [
    "# for loop over temp and calculate the score for each user based on the number of True answers\n",
    "\n",
    "\n",
    "print(scores)"
   ]
  },
  {
   "cell_type": "code",
   "execution_count": null,
   "metadata": {},
   "outputs": [],
   "source": []
  }
 ],
 "metadata": {
  "language_info": {
   "name": "python"
  }
 },
 "nbformat": 4,
 "nbformat_minor": 2
}
